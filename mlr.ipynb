{
 "cells": [
  {
   "cell_type": "markdown",
   "metadata": {},
   "source": [
    "In the Simple Linear Regression model we would simply use the following equations for the estimation:\n",
    "$$\n",
    "Y_i=\\beta_{0}+\\beta_{1} X_{i} + e_{i}\n",
    "$$\n",
    "$$\n",
    "{\\displaystyle {\\begin{gather*}\n",
    "{\\widehat {\\beta_{1} }}={\\frac {\\sum _{i=1}^{n}{(x_{i}-{\\bar {x}})(y_{i}-{\\bar {y}})}}\n",
    "{\\sum _{i=1}^{n}{(x_{i}-{\\bar {x}})^{2}}}}\\\\\n",
    "{\\widehat {\\beta_{0} }}={\\bar {y}}-{\\widehat {\\beta_{1} }}\\,{\\bar {x}}\\ \\end{gather*}}}\n",
    "$$"
   ]
  },
  {
   "cell_type": "markdown",
   "metadata": {},
   "source": [
    "The equation would be enough for analyizing the data that has one regressor and one target variable. But in real life cases we often have more than one regressor as this study focuses, the multi-linear model. So what will be done to expand the model as a multi-lienar model. Firstly we need to define our model's sample formula:\n",
    "$$\n",
    "Y_{i}=\\beta_{0}+\\beta_{1} X_{i1}+\\beta_{2} X_{i2}+\\cdots+\\beta_{p} X_{in}+e_{i}\n",
    "$$"
   ]
  },
  {
   "cell_type": "markdown",
   "metadata": {},
   "source": [
    "Becaues there ara many independent variables we will rout to the matrix approach for MLR. So for that we need to define these matrices: \n",
    "$$\\displaystyle  {X} ={\\begin{bmatrix}1 & X_{11} & X_{12} & \\cdots & X_{1p} \\\\ \n",
    "1 & X_{21} & X_{22} & \\cdots & X_ {2p} \\\\\n",
    " \\vdots &\\vdots &\\ddots &\\vdots \\\\ 1 & X_{n1}&X_{n2}&\\cdots &X_{np}\\end{bmatrix}},\n",
    "\\qquad { {\\beta }}={\\begin{bmatrix}\\beta _{0}\\\\\\beta _{1}\\\\\\vdots \\\\\\beta _{p}\\end{bmatrix}},\\qquad  {y} ={\\begin{bmatrix}y_{1}\\\\y_{2}\\\\\\vdots \\\\y_{n}\\end{bmatrix}},\\qquad  {e} ={\\begin{bmatrix}e_{1}\\\\e_{2}\\\\\\vdots \\\\e_{n}\\end{bmatrix}}$$"
   ]
  },
  {
   "cell_type": "markdown",
   "metadata": {},
   "source": [
    "We want to minimize the sum of the squared errors, $e$. In matrix notation, the OLS model is $y=Xb+e$, where $e=y-Xb$. The sum of the squared error is:\n",
    "$$\n",
    "\\begin{equation}\n",
    "\\sum e^{2}_i = \n",
    "\\begin{bmatrix}\n",
    "  e_1 & e_2 & \\cdots & e_n \\\\ \n",
    "\\end{bmatrix}\n",
    "\\begin{bmatrix}\n",
    "  e_1 \\\\\n",
    "  e_2 \\\\\n",
    "  \\vdots \\\\\n",
    "  e_n \\\\\n",
    "\\end{bmatrix}\n",
    "=\n",
    "e'e\n",
    "\\tag{11.1}\n",
    "\\end{equation}\n",
    "$$"
   ]
  },
  {
   "cell_type": "markdown",
   "metadata": {},
   "source": [
    "Therefore, we want to find the $\\beta$ that minimizes this function:\n",
    "$$\n",
    "\\begin{align*}\n",
    "e'e &= (y-X\\beta)'(y-X\\beta) \\\\\n",
    "&=y'y-\\beta'X'y-y'X\\beta+\\beta'X'X\\beta \\\\\n",
    "&=y'y-2\\beta'X'y+\\beta'X'X\\beta \\\\\n",
    "\\end{align*}\n",
    "$$"
   ]
  },
  {
   "cell_type": "markdown",
   "metadata": {},
   "source": [
    "To do this we take the derivative of $e'e$ w.r.t $\\beta$ and set it equal to $0$. Through this proces we will continue with the equation and find $\\beta$:\n",
    "$$\n",
    "\\begin{equation*}\n",
    "\\frac{\\partial e'e}{\\partial \\beta}=-2X'y+2X'X\\beta=0   \n",
    "\\end{equation*}\n",
    "$$\n",
    "$$\n",
    "\\begin{equation*}\n",
    "  -2X'X\\beta=-2X'y\n",
    "\\end{equation*}\n",
    "$$\n",
    "$$\n",
    "\\begin{equation*}\n",
    "(X'X)\\beta=X'y\n",
    "\\end{equation*}\n",
    "$$\n",
    "$$\n",
    "\\begin{equation}\n",
    "\\beta = (X'X)^{-1}X'y  \n",
    "\\end{equation}\n",
    "$$"
   ]
  },
  {
   "cell_type": "markdown",
   "metadata": {},
   "source": [
    "So in the end we found out that the as the OLS states the coefficients($\\beta$) that has the minimum errors are matrix equation $\\beta = (X'X)^{-1}X'y $."
   ]
  },
  {
   "cell_type": "markdown",
   "metadata": {},
   "source": [
    "## Importing Libraries"
   ]
  },
  {
   "cell_type": "code",
   "execution_count": 1,
   "metadata": {},
   "outputs": [],
   "source": [
    "import pandas as pd\n",
    "import matplotlib.pyplot as plt\n",
    "import numpy as np"
   ]
  },
  {
   "cell_type": "markdown",
   "metadata": {},
   "source": [
    "## Importing The Data"
   ]
  },
  {
   "cell_type": "code",
   "execution_count": 2,
   "metadata": {},
   "outputs": [
    {
     "data": {
      "text/html": [
       "<div>\n",
       "<style scoped>\n",
       "    .dataframe tbody tr th:only-of-type {\n",
       "        vertical-align: middle;\n",
       "    }\n",
       "\n",
       "    .dataframe tbody tr th {\n",
       "        vertical-align: top;\n",
       "    }\n",
       "\n",
       "    .dataframe thead th {\n",
       "        text-align: right;\n",
       "    }\n",
       "</style>\n",
       "<table border=\"1\" class=\"dataframe\">\n",
       "  <thead>\n",
       "    <tr style=\"text-align: right;\">\n",
       "      <th></th>\n",
       "      <th>R&amp;D Spend</th>\n",
       "      <th>Administration</th>\n",
       "      <th>Marketing Spend</th>\n",
       "      <th>State</th>\n",
       "      <th>Profit</th>\n",
       "    </tr>\n",
       "  </thead>\n",
       "  <tbody>\n",
       "    <tr>\n",
       "      <th>0</th>\n",
       "      <td>165349.20</td>\n",
       "      <td>136897.80</td>\n",
       "      <td>471784.10</td>\n",
       "      <td>New York</td>\n",
       "      <td>192261.83</td>\n",
       "    </tr>\n",
       "    <tr>\n",
       "      <th>1</th>\n",
       "      <td>162597.70</td>\n",
       "      <td>151377.59</td>\n",
       "      <td>443898.53</td>\n",
       "      <td>California</td>\n",
       "      <td>191792.06</td>\n",
       "    </tr>\n",
       "    <tr>\n",
       "      <th>2</th>\n",
       "      <td>153441.51</td>\n",
       "      <td>101145.55</td>\n",
       "      <td>407934.54</td>\n",
       "      <td>Florida</td>\n",
       "      <td>191050.39</td>\n",
       "    </tr>\n",
       "    <tr>\n",
       "      <th>3</th>\n",
       "      <td>144372.41</td>\n",
       "      <td>118671.85</td>\n",
       "      <td>383199.62</td>\n",
       "      <td>New York</td>\n",
       "      <td>182901.99</td>\n",
       "    </tr>\n",
       "    <tr>\n",
       "      <th>4</th>\n",
       "      <td>142107.34</td>\n",
       "      <td>91391.77</td>\n",
       "      <td>366168.42</td>\n",
       "      <td>Florida</td>\n",
       "      <td>166187.94</td>\n",
       "    </tr>\n",
       "  </tbody>\n",
       "</table>\n",
       "</div>"
      ],
      "text/plain": [
       "   R&D Spend  Administration  Marketing Spend       State     Profit\n",
       "0  165349.20       136897.80        471784.10    New York  192261.83\n",
       "1  162597.70       151377.59        443898.53  California  191792.06\n",
       "2  153441.51       101145.55        407934.54     Florida  191050.39\n",
       "3  144372.41       118671.85        383199.62    New York  182901.99\n",
       "4  142107.34        91391.77        366168.42     Florida  166187.94"
      ]
     },
     "execution_count": 2,
     "metadata": {},
     "output_type": "execute_result"
    }
   ],
   "source": [
    "df = pd.read_csv(\"startups.csv\")\n",
    "df.head()"
   ]
  },
  {
   "cell_type": "markdown",
   "metadata": {},
   "source": [
    "## Data Processing"
   ]
  },
  {
   "cell_type": "code",
   "execution_count": 3,
   "metadata": {},
   "outputs": [
    {
     "data": {
      "text/html": [
       "<div>\n",
       "<style scoped>\n",
       "    .dataframe tbody tr th:only-of-type {\n",
       "        vertical-align: middle;\n",
       "    }\n",
       "\n",
       "    .dataframe tbody tr th {\n",
       "        vertical-align: top;\n",
       "    }\n",
       "\n",
       "    .dataframe thead th {\n",
       "        text-align: right;\n",
       "    }\n",
       "</style>\n",
       "<table border=\"1\" class=\"dataframe\">\n",
       "  <thead>\n",
       "    <tr style=\"text-align: right;\">\n",
       "      <th></th>\n",
       "      <th>R&amp;D Spend</th>\n",
       "      <th>Administration</th>\n",
       "      <th>Marketing Spend</th>\n",
       "      <th>Profit</th>\n",
       "      <th>State_Florida</th>\n",
       "      <th>State_New York</th>\n",
       "    </tr>\n",
       "  </thead>\n",
       "  <tbody>\n",
       "    <tr>\n",
       "      <th>0</th>\n",
       "      <td>165349.20</td>\n",
       "      <td>136897.80</td>\n",
       "      <td>471784.10</td>\n",
       "      <td>192261.83</td>\n",
       "      <td>0</td>\n",
       "      <td>1</td>\n",
       "    </tr>\n",
       "    <tr>\n",
       "      <th>1</th>\n",
       "      <td>162597.70</td>\n",
       "      <td>151377.59</td>\n",
       "      <td>443898.53</td>\n",
       "      <td>191792.06</td>\n",
       "      <td>0</td>\n",
       "      <td>0</td>\n",
       "    </tr>\n",
       "    <tr>\n",
       "      <th>2</th>\n",
       "      <td>153441.51</td>\n",
       "      <td>101145.55</td>\n",
       "      <td>407934.54</td>\n",
       "      <td>191050.39</td>\n",
       "      <td>1</td>\n",
       "      <td>0</td>\n",
       "    </tr>\n",
       "    <tr>\n",
       "      <th>3</th>\n",
       "      <td>144372.41</td>\n",
       "      <td>118671.85</td>\n",
       "      <td>383199.62</td>\n",
       "      <td>182901.99</td>\n",
       "      <td>0</td>\n",
       "      <td>1</td>\n",
       "    </tr>\n",
       "    <tr>\n",
       "      <th>4</th>\n",
       "      <td>142107.34</td>\n",
       "      <td>91391.77</td>\n",
       "      <td>366168.42</td>\n",
       "      <td>166187.94</td>\n",
       "      <td>1</td>\n",
       "      <td>0</td>\n",
       "    </tr>\n",
       "  </tbody>\n",
       "</table>\n",
       "</div>"
      ],
      "text/plain": [
       "   R&D Spend  Administration  Marketing Spend     Profit  State_Florida  \\\n",
       "0  165349.20       136897.80        471784.10  192261.83              0   \n",
       "1  162597.70       151377.59        443898.53  191792.06              0   \n",
       "2  153441.51       101145.55        407934.54  191050.39              1   \n",
       "3  144372.41       118671.85        383199.62  182901.99              0   \n",
       "4  142107.34        91391.77        366168.42  166187.94              1   \n",
       "\n",
       "   State_New York  \n",
       "0               1  \n",
       "1               0  \n",
       "2               0  \n",
       "3               1  \n",
       "4               0  "
      ]
     },
     "execution_count": 3,
     "metadata": {},
     "output_type": "execute_result"
    }
   ],
   "source": [
    "# getting the dummies\n",
    "df = pd.get_dummies(df, columns=['State'], drop_first=True, dtype=int)\n",
    "df.head()"
   ]
  },
  {
   "cell_type": "code",
   "execution_count": 4,
   "metadata": {},
   "outputs": [],
   "source": [
    "# # if not want to use dummy method this is the option to use as classes\n",
    "# classes = df['State'].unique().tolist()\n",
    "# display(f\"Label classes: {classes}\")\n",
    "\n",
    "# df['State'] = df['State'].map(classes.index)\n",
    "# display(f\"Labelled classes: {df['State'].unique().tolist()}\")"
   ]
  },
  {
   "cell_type": "markdown",
   "metadata": {},
   "source": [
    "## Matrix Preparations"
   ]
  },
  {
   "cell_type": "code",
   "execution_count": null,
   "metadata": {},
   "outputs": [
    {
     "data": {
      "text/plain": [
       "array([[1.0000000e+00, 1.6534920e+05, 1.3689780e+05, 4.7178410e+05,\n",
       "        0.0000000e+00, 1.0000000e+00],\n",
       "       [1.0000000e+00, 1.6259770e+05, 1.5137759e+05, 4.4389853e+05,\n",
       "        0.0000000e+00, 0.0000000e+00],\n",
       "       [1.0000000e+00, 1.5344151e+05, 1.0114555e+05, 4.0793454e+05,\n",
       "        1.0000000e+00, 0.0000000e+00],\n",
       "       [1.0000000e+00, 1.4437241e+05, 1.1867185e+05, 3.8319962e+05,\n",
       "        0.0000000e+00, 1.0000000e+00],\n",
       "       [1.0000000e+00, 1.4210734e+05, 9.1391770e+04, 3.6616842e+05,\n",
       "        1.0000000e+00, 0.0000000e+00],\n",
       "       [1.0000000e+00, 1.3187690e+05, 9.9814710e+04, 3.6286136e+05,\n",
       "        0.0000000e+00, 1.0000000e+00],\n",
       "       [1.0000000e+00, 1.3461546e+05, 1.4719887e+05, 1.2771682e+05,\n",
       "        0.0000000e+00, 0.0000000e+00],\n",
       "       [1.0000000e+00, 1.3029813e+05, 1.4553006e+05, 3.2387668e+05,\n",
       "        1.0000000e+00, 0.0000000e+00],\n",
       "       [1.0000000e+00, 1.2054252e+05, 1.4871895e+05, 3.1161329e+05,\n",
       "        0.0000000e+00, 1.0000000e+00],\n",
       "       [1.0000000e+00, 1.2333488e+05, 1.0867917e+05, 3.0498162e+05,\n",
       "        0.0000000e+00, 0.0000000e+00]])"
      ]
     },
     "metadata": {},
     "output_type": "display_data"
    },
    {
     "data": {
      "text/plain": [
       "array([192261.83, 191792.06, 191050.39, 182901.99, 166187.94, 156991.12,\n",
       "       156122.51, 155752.6 , 152211.77, 149759.96])"
      ]
     },
     "metadata": {},
     "output_type": "display_data"
    }
   ],
   "source": [
    "# for demonstrating we will use 10 samples\n",
    "# creating the target and the independet varaibles\n",
    "target = \"Profit\"\n",
    "y = df[target][:10].values\n",
    "X = df.iloc[:10, df.columns != 'Profit'].values\n",
    "# first column must be 1's because of the intercept\n",
    "row_num = X.shape[0]\n",
    "ones = np.ones(row_num)\n",
    "X = np.c_[ones, X]\n",
    "\n",
    "display(X)\n",
    "display(y)"
   ]
  },
  {
   "cell_type": "code",
   "execution_count": 11,
   "metadata": {},
   "outputs": [
    {
     "data": {
      "text/plain": [
       "array([[1.0000000e+00, 1.0000000e+00, 1.0000000e+00, 1.0000000e+00,\n",
       "        1.0000000e+00, 1.0000000e+00, 1.0000000e+00, 1.0000000e+00,\n",
       "        1.0000000e+00, 1.0000000e+00],\n",
       "       [1.6534920e+05, 1.6259770e+05, 1.5344151e+05, 1.4437241e+05,\n",
       "        1.4210734e+05, 1.3187690e+05, 1.3461546e+05, 1.3029813e+05,\n",
       "        1.2054252e+05, 1.2333488e+05],\n",
       "       [1.3689780e+05, 1.5137759e+05, 1.0114555e+05, 1.1867185e+05,\n",
       "        9.1391770e+04, 9.9814710e+04, 1.4719887e+05, 1.4553006e+05,\n",
       "        1.4871895e+05, 1.0867917e+05],\n",
       "       [4.7178410e+05, 4.4389853e+05, 4.0793454e+05, 3.8319962e+05,\n",
       "        3.6616842e+05, 3.6286136e+05, 1.2771682e+05, 3.2387668e+05,\n",
       "        3.1161329e+05, 3.0498162e+05],\n",
       "       [0.0000000e+00, 0.0000000e+00, 1.0000000e+00, 0.0000000e+00,\n",
       "        1.0000000e+00, 0.0000000e+00, 0.0000000e+00, 1.0000000e+00,\n",
       "        0.0000000e+00, 0.0000000e+00],\n",
       "       [1.0000000e+00, 0.0000000e+00, 0.0000000e+00, 1.0000000e+00,\n",
       "        0.0000000e+00, 1.0000000e+00, 0.0000000e+00, 0.0000000e+00,\n",
       "        1.0000000e+00, 0.0000000e+00]])"
      ]
     },
     "metadata": {},
     "output_type": "display_data"
    },
    {
     "data": {
      "text/plain": [
       "array([1.69503217e+06, 2.41145770e+11, 2.11800994e+11, 6.05174452e+11,\n",
       "       5.12990930e+05, 6.84366710e+05])"
      ]
     },
     "metadata": {},
     "output_type": "display_data"
    }
   ],
   "source": [
    "# X^T matrix\n",
    "xt_mx = X.T\n",
    "# X^T*y matrix\n",
    "xty_mx = xt_mx @ y\n",
    "xty_mx\n",
    "\n",
    "display(xt_mx)\n",
    "display(xty_mx)"
   ]
  },
  {
   "cell_type": "code",
   "execution_count": 12,
   "metadata": {},
   "outputs": [
    {
     "data": {
      "text/plain": [
       "array([[1.00000000e+01, 1.40853605e+06, 1.24942632e+06, 3.50403498e+06,\n",
       "        3.00000000e+00, 4.00000000e+00],\n",
       "       [1.40853605e+06, 2.00592989e+11, 1.76161580e+11, 5.02562506e+11,\n",
       "        4.25846980e+05, 5.62141030e+05],\n",
       "       [1.24942632e+06, 1.76161580e+11, 1.61060038e+11, 4.33623463e+11,\n",
       "        3.38067380e+05, 5.04103310e+05],\n",
       "       [3.50403498e+06, 5.02562506e+11, 4.33623463e+11, 1.30995068e+12,\n",
       "        1.09797964e+06, 1.52945837e+06],\n",
       "       [3.00000000e+00, 4.25846980e+05, 3.38067380e+05, 1.09797964e+06,\n",
       "        3.00000000e+00, 0.00000000e+00],\n",
       "       [4.00000000e+00, 5.62141030e+05, 5.04103310e+05, 1.52945837e+06,\n",
       "        0.00000000e+00, 4.00000000e+00]])"
      ]
     },
     "metadata": {},
     "output_type": "display_data"
    }
   ],
   "source": [
    "# x^T*x matrix\n",
    "xtx_mx = xt_mx @ X\n",
    "display(xtx_mx)"
   ]
  },
  {
   "cell_type": "code",
   "execution_count": 13,
   "metadata": {},
   "outputs": [
    {
     "data": {
      "text/plain": [
       "array([[ 1.33952693e+32, -8.37054324e+26, -2.34404835e+26,\n",
       "         6.28807594e+25, -1.17327289e+31, -1.08193602e+31],\n",
       "       [-8.37054324e+26,  9.90197529e+21, -1.17103717e+21,\n",
       "        -1.34175897e+21,  5.45167325e+25,  1.06099727e+26],\n",
       "       [-2.34404835e+26, -1.17103717e+21,  2.45637947e+21,\n",
       "         2.22813371e+20,  4.22769444e+25,  4.21364696e+24],\n",
       "       [ 6.28807594e+25, -1.34175897e+21,  2.22813371e+20,\n",
       "         3.24995222e+20, -1.64741142e+25, -2.66632222e+25],\n",
       "       [-1.17327289e+31,  5.45167325e+25,  4.22769444e+25,\n",
       "        -1.64741142e+25,  8.42436786e+30,  5.04233691e+30],\n",
       "       [-1.08193602e+31,  1.06099727e+26,  4.21364696e+24,\n",
       "        -2.66632222e+25,  5.04233691e+30,  7.94638063e+30]])"
      ]
     },
     "execution_count": 13,
     "metadata": {},
     "output_type": "execute_result"
    }
   ],
   "source": [
    "def matrix_cofactor(matrix):\n",
    " \n",
    "    try:\n",
    "        determinant = np.linalg.det(matrix)\n",
    "        if(determinant!=0):\n",
    "            cofactor = None\n",
    "            cofactor = np.linalg.inv(matrix).T * determinant\n",
    "            # return cofactor matrix of the given matrix\n",
    "            return cofactor\n",
    "        else:\n",
    "            raise Exception(\"singular matrix\")\n",
    "    except Exception as e:\n",
    "        print(\"could not find cofactor matrix due to\",e)\n",
    "\n",
    "# cofactor matrix\n",
    "# its just transpose of the inverse time determinant => (A^-1)^T * det(A) \n",
    "co_xtx_mx = matrix_cofactor(xtx_mx)\n",
    "co_xtx_mx"
   ]
  },
  {
   "cell_type": "code",
   "execution_count": 14,
   "metadata": {},
   "outputs": [
    {
     "data": {
      "text/plain": [
       "array([[ 1.33952693e+32, -8.37054324e+26, -2.34404835e+26,\n",
       "         6.28807594e+25, -1.17327289e+31, -1.08193602e+31],\n",
       "       [-8.37054324e+26,  9.90197529e+21, -1.17103717e+21,\n",
       "        -1.34175897e+21,  5.45167325e+25,  1.06099727e+26],\n",
       "       [-2.34404835e+26, -1.17103717e+21,  2.45637947e+21,\n",
       "         2.22813371e+20,  4.22769444e+25,  4.21364696e+24],\n",
       "       [ 6.28807594e+25, -1.34175897e+21,  2.22813371e+20,\n",
       "         3.24995222e+20, -1.64741142e+25, -2.66632222e+25],\n",
       "       [-1.17327289e+31,  5.45167325e+25,  4.22769444e+25,\n",
       "        -1.64741142e+25,  8.42436786e+30,  5.04233691e+30],\n",
       "       [-1.08193602e+31,  1.06099727e+26,  4.21364696e+24,\n",
       "        -2.66632222e+25,  5.04233691e+30,  7.94638063e+30]])"
      ]
     },
     "metadata": {},
     "output_type": "display_data"
    },
    {
     "data": {
      "text/plain": [
       "9.494916648335748e+30"
      ]
     },
     "metadata": {},
     "output_type": "display_data"
    }
   ],
   "source": [
    "# adjoint matrix\n",
    "# just the transpose of cofator matrix => cof(X)^T\n",
    "adj_xtx_mx = co_xtx_mx.T\n",
    "display(adj_xtx_mx)\n",
    "\n",
    "det_xtx_mx = np.linalg.det(xtx_mx)\n",
    "display(det_xtx_mx)"
   ]
  },
  {
   "cell_type": "code",
   "execution_count": 15,
   "metadata": {},
   "outputs": [
    {
     "data": {
      "text/plain": [
       "array([[ 1.41078324e+01, -8.81581540e-05, -2.46874031e-05,\n",
       "         6.62257098e-06, -1.23568530e+00, -1.13948975e+00],\n",
       "       [-8.81581540e-05,  1.04287122e-09, -1.23333065e-10,\n",
       "        -1.41313402e-10,  5.74167574e-06,  1.11743716e-05],\n",
       "       [-2.46874031e-05, -1.23333065e-10,  2.58704690e-10,\n",
       "         2.34665958e-11,  4.45258721e-06,  4.43779247e-07],\n",
       "       [ 6.62257098e-06, -1.41313402e-10,  2.34665958e-11,\n",
       "         3.42283386e-11, -1.73504568e-06, -2.80815758e-06],\n",
       "       [-1.23568530e+00,  5.74167574e-06,  4.45258721e-06,\n",
       "        -1.73504568e-06,  8.87250323e-01,  5.31056469e-01],\n",
       "       [-1.13948975e+00,  1.11743716e-05,  4.43779247e-07,\n",
       "        -2.80815758e-06,  5.31056469e-01,  8.36908940e-01]])"
      ]
     },
     "execution_count": 15,
     "metadata": {},
     "output_type": "execute_result"
    }
   ],
   "source": [
    "# inverse matrix => adj(A) / det(A)\n",
    "inv_xtx_mx = adj_xtx_mx/det_xtx_mx\n",
    "inv_xtx_mx"
   ]
  },
  {
   "cell_type": "code",
   "execution_count": 16,
   "metadata": {},
   "outputs": [
    {
     "data": {
      "text/plain": [
       "array([ 1.95338082e+04,  1.00454568e+00, -4.05025793e-03,  2.08338383e-02,\n",
       "        1.70029724e+03,  2.92809871e+03])"
      ]
     },
     "execution_count": 16,
     "metadata": {},
     "output_type": "execute_result"
    }
   ],
   "source": [
    "# beta coefficients matrix\n",
    "beta_mx = inv_xtx_mx @ xty_mx\n",
    "beta_mx"
   ]
  },
  {
   "cell_type": "markdown",
   "metadata": {},
   "source": [
    "## Final Results"
   ]
  },
  {
   "cell_type": "code",
   "execution_count": 18,
   "metadata": {},
   "outputs": [
    {
     "data": {
      "text/plain": [
       "'Manual MLR'"
      ]
     },
     "metadata": {},
     "output_type": "display_data"
    },
    {
     "data": {
      "text/plain": [
       "array([197837.33, 191505.62, 183462.29, 174993.45, 171245.95, 162093.8 ,\n",
       "       156825.83, 158282.69, 149442.13, 149343.09])"
      ]
     },
     "metadata": {},
     "output_type": "display_data"
    },
    {
     "data": {
      "text/plain": [
       "'Sckit-Learn MLR'"
      ]
     },
     "metadata": {},
     "output_type": "display_data"
    },
    {
     "data": {
      "text/plain": [
       "array([197837.33, 191505.62, 183462.29, 174993.45, 171245.95, 162093.8 ,\n",
       "       156825.83, 158282.69, 149442.13, 149343.09])"
      ]
     },
     "metadata": {},
     "output_type": "display_data"
    }
   ],
   "source": [
    "# just testing out if it is working or not\n",
    "result = X @ beta_mx\n",
    "display(\"Manual MLR\", np.round(result, 2))\n",
    "# sklearn library is the way to go but we did everything manually\n",
    "from sklearn.linear_model import LinearRegression\n",
    "lr = LinearRegression()\n",
    "lr.fit(X, y)\n",
    "\n",
    "pred = lr.predict(X)\n",
    "display(\"Sckit-Learn MLR\", np.round(pred, 2))"
   ]
  }
 ],
 "metadata": {
  "kernelspec": {
   "display_name": "base",
   "language": "python",
   "name": "python3"
  },
  "language_info": {
   "codemirror_mode": {
    "name": "ipython",
    "version": 3
   },
   "file_extension": ".py",
   "mimetype": "text/x-python",
   "name": "python",
   "nbconvert_exporter": "python",
   "pygments_lexer": "ipython3",
   "version": "3.10.13"
  }
 },
 "nbformat": 4,
 "nbformat_minor": 2
}
